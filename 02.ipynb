{
 "cells": [
  {
   "cell_type": "markdown",
   "metadata": {},
   "source": [
    "## Install packages"
   ]
  },
  {
   "cell_type": "code",
   "execution_count": 2,
   "metadata": {},
   "outputs": [
    {
     "name": "stdout",
     "output_type": "stream",
     "text": [
      "Requirement already satisfied: mobilechelonian in /home/frank/environments/myenv/lib/python3.6/site-packages\n",
      "Requirement already satisfied: ipywidgets>=7.0.0 in /home/frank/environments/myenv/lib/python3.6/site-packages (from mobilechelonian)\n",
      "Requirement already satisfied: IPython in /home/frank/environments/myenv/lib/python3.6/site-packages (from mobilechelonian)\n",
      "Requirement already satisfied: ipykernel>=4.5.1 in /home/frank/environments/myenv/lib/python3.6/site-packages (from ipywidgets>=7.0.0->mobilechelonian)\n",
      "Requirement already satisfied: traitlets>=4.3.1 in /home/frank/environments/myenv/lib/python3.6/site-packages (from ipywidgets>=7.0.0->mobilechelonian)\n",
      "Requirement already satisfied: widgetsnbextension~=3.5.0 in /home/frank/environments/myenv/lib/python3.6/site-packages (from ipywidgets>=7.0.0->mobilechelonian)\n",
      "Requirement already satisfied: nbformat>=4.2.0 in /home/frank/environments/myenv/lib/python3.6/site-packages (from ipywidgets>=7.0.0->mobilechelonian)\n",
      "Requirement already satisfied: pygments in /home/frank/environments/myenv/lib/python3.6/site-packages (from IPython->mobilechelonian)\n",
      "Requirement already satisfied: backcall in /home/frank/environments/myenv/lib/python3.6/site-packages (from IPython->mobilechelonian)\n",
      "Requirement already satisfied: decorator in /home/frank/environments/myenv/lib/python3.6/site-packages (from IPython->mobilechelonian)\n",
      "Requirement already satisfied: pexpect; sys_platform != \"win32\" in /home/frank/environments/myenv/lib/python3.6/site-packages (from IPython->mobilechelonian)\n",
      "Requirement already satisfied: pickleshare in /home/frank/environments/myenv/lib/python3.6/site-packages (from IPython->mobilechelonian)\n",
      "Requirement already satisfied: prompt-toolkit<2.1.0,>=2.0.0 in /home/frank/environments/myenv/lib/python3.6/site-packages (from IPython->mobilechelonian)\n",
      "Requirement already satisfied: setuptools>=18.5 in /home/frank/environments/myenv/lib/python3.6/site-packages (from IPython->mobilechelonian)\n",
      "Requirement already satisfied: jedi>=0.10 in /home/frank/environments/myenv/lib/python3.6/site-packages (from IPython->mobilechelonian)\n",
      "Requirement already satisfied: jupyter-client in /home/frank/environments/myenv/lib/python3.6/site-packages (from ipykernel>=4.5.1->ipywidgets>=7.0.0->mobilechelonian)\n",
      "Requirement already satisfied: tornado>=4.2 in /home/frank/environments/myenv/lib/python3.6/site-packages (from ipykernel>=4.5.1->ipywidgets>=7.0.0->mobilechelonian)\n",
      "Requirement already satisfied: six in /home/frank/environments/myenv/lib/python3.6/site-packages (from traitlets>=4.3.1->ipywidgets>=7.0.0->mobilechelonian)\n",
      "Requirement already satisfied: ipython-genutils in /home/frank/environments/myenv/lib/python3.6/site-packages (from traitlets>=4.3.1->ipywidgets>=7.0.0->mobilechelonian)\n",
      "Requirement already satisfied: notebook>=4.4.1 in /home/frank/environments/myenv/lib/python3.6/site-packages (from widgetsnbextension~=3.5.0->ipywidgets>=7.0.0->mobilechelonian)\n",
      "Requirement already satisfied: jsonschema!=2.5.0,>=2.4 in /home/frank/environments/myenv/lib/python3.6/site-packages (from nbformat>=4.2.0->ipywidgets>=7.0.0->mobilechelonian)\n",
      "Requirement already satisfied: jupyter-core in /home/frank/environments/myenv/lib/python3.6/site-packages (from nbformat>=4.2.0->ipywidgets>=7.0.0->mobilechelonian)\n",
      "Requirement already satisfied: ptyprocess>=0.5 in /home/frank/environments/myenv/lib/python3.6/site-packages (from pexpect; sys_platform != \"win32\"->IPython->mobilechelonian)\n",
      "Requirement already satisfied: wcwidth in /home/frank/environments/myenv/lib/python3.6/site-packages (from prompt-toolkit<2.1.0,>=2.0.0->IPython->mobilechelonian)\n",
      "Requirement already satisfied: parso>=0.5.0 in /home/frank/environments/myenv/lib/python3.6/site-packages (from jedi>=0.10->IPython->mobilechelonian)\n",
      "Requirement already satisfied: pyzmq>=13 in /home/frank/environments/myenv/lib/python3.6/site-packages (from jupyter-client->ipykernel>=4.5.1->ipywidgets>=7.0.0->mobilechelonian)\n",
      "Requirement already satisfied: python-dateutil>=2.1 in /home/frank/environments/myenv/lib/python3.6/site-packages (from jupyter-client->ipykernel>=4.5.1->ipywidgets>=7.0.0->mobilechelonian)\n",
      "Requirement already satisfied: nbconvert in /home/frank/environments/myenv/lib/python3.6/site-packages (from notebook>=4.4.1->widgetsnbextension~=3.5.0->ipywidgets>=7.0.0->mobilechelonian)\n",
      "Requirement already satisfied: prometheus-client in /home/frank/environments/myenv/lib/python3.6/site-packages (from notebook>=4.4.1->widgetsnbextension~=3.5.0->ipywidgets>=7.0.0->mobilechelonian)\n",
      "Requirement already satisfied: jinja2 in /home/frank/environments/myenv/lib/python3.6/site-packages (from notebook>=4.4.1->widgetsnbextension~=3.5.0->ipywidgets>=7.0.0->mobilechelonian)\n",
      "Requirement already satisfied: Send2Trash in /home/frank/environments/myenv/lib/python3.6/site-packages (from notebook>=4.4.1->widgetsnbextension~=3.5.0->ipywidgets>=7.0.0->mobilechelonian)\n",
      "Requirement already satisfied: terminado>=0.8.1 in /home/frank/environments/myenv/lib/python3.6/site-packages (from notebook>=4.4.1->widgetsnbextension~=3.5.0->ipywidgets>=7.0.0->mobilechelonian)\n",
      "Requirement already satisfied: pyrsistent>=0.14.0 in /home/frank/environments/myenv/lib/python3.6/site-packages (from jsonschema!=2.5.0,>=2.4->nbformat>=4.2.0->ipywidgets>=7.0.0->mobilechelonian)\n",
      "Requirement already satisfied: importlib-metadata in /home/frank/environments/myenv/lib/python3.6/site-packages (from jsonschema!=2.5.0,>=2.4->nbformat>=4.2.0->ipywidgets>=7.0.0->mobilechelonian)\n",
      "Requirement already satisfied: attrs>=17.4.0 in /home/frank/environments/myenv/lib/python3.6/site-packages (from jsonschema!=2.5.0,>=2.4->nbformat>=4.2.0->ipywidgets>=7.0.0->mobilechelonian)\n",
      "Requirement already satisfied: bleach in /home/frank/environments/myenv/lib/python3.6/site-packages (from nbconvert->notebook>=4.4.1->widgetsnbextension~=3.5.0->ipywidgets>=7.0.0->mobilechelonian)\n",
      "Requirement already satisfied: testpath in /home/frank/environments/myenv/lib/python3.6/site-packages (from nbconvert->notebook>=4.4.1->widgetsnbextension~=3.5.0->ipywidgets>=7.0.0->mobilechelonian)\n",
      "Requirement already satisfied: defusedxml in /home/frank/environments/myenv/lib/python3.6/site-packages (from nbconvert->notebook>=4.4.1->widgetsnbextension~=3.5.0->ipywidgets>=7.0.0->mobilechelonian)\n",
      "Requirement already satisfied: mistune<2,>=0.8.1 in /home/frank/environments/myenv/lib/python3.6/site-packages (from nbconvert->notebook>=4.4.1->widgetsnbextension~=3.5.0->ipywidgets>=7.0.0->mobilechelonian)\n",
      "Requirement already satisfied: entrypoints>=0.2.2 in /home/frank/environments/myenv/lib/python3.6/site-packages (from nbconvert->notebook>=4.4.1->widgetsnbextension~=3.5.0->ipywidgets>=7.0.0->mobilechelonian)\n",
      "Requirement already satisfied: pandocfilters>=1.4.1 in /home/frank/environments/myenv/lib/python3.6/site-packages (from nbconvert->notebook>=4.4.1->widgetsnbextension~=3.5.0->ipywidgets>=7.0.0->mobilechelonian)\n",
      "Requirement already satisfied: MarkupSafe>=0.23 in /home/frank/environments/myenv/lib/python3.6/site-packages (from jinja2->notebook>=4.4.1->widgetsnbextension~=3.5.0->ipywidgets>=7.0.0->mobilechelonian)\n",
      "Requirement already satisfied: zipp>=0.5 in /home/frank/environments/myenv/lib/python3.6/site-packages (from importlib-metadata->jsonschema!=2.5.0,>=2.4->nbformat>=4.2.0->ipywidgets>=7.0.0->mobilechelonian)\n",
      "Requirement already satisfied: webencodings in /home/frank/environments/myenv/lib/python3.6/site-packages (from bleach->nbconvert->notebook>=4.4.1->widgetsnbextension~=3.5.0->ipywidgets>=7.0.0->mobilechelonian)\n",
      "Requirement already satisfied: more-itertools in /home/frank/environments/myenv/lib/python3.6/site-packages (from zipp>=0.5->importlib-metadata->jsonschema!=2.5.0,>=2.4->nbformat>=4.2.0->ipywidgets>=7.0.0->mobilechelonian)\n",
      "Collecting matplotlib\n",
      "  Downloading https://files.pythonhosted.org/packages/93/4b/52da6b1523d5139d04e02d9e26ceda6146b48f2a4e5d2abfdf1c7bac8c40/matplotlib-3.2.1-cp36-cp36m-manylinux1_x86_64.whl (12.4MB)\n"
     ]
    },
    {
     "name": "stdout",
     "output_type": "stream",
     "text": [
      "\u001b[K    100% |████████████████████████████████| 12.4MB 75kB/s eta 0:00:011 4% |█▌                              | 593kB 1.6MB/s eta 0:00:08    6% |██▏                             | 839kB 1.6MB/s eta 0:00:08    16% |█████▏                          | 2.0MB 1.4MB/s eta 0:00:08    24% |████████                        | 3.1MB 1.2MB/s eta 0:00:08    27% |████████▉                       | 3.4MB 903kB/s eta 0:00:10    31% |██████████                      | 3.9MB 1.7MB/s eta 0:00:06    33% |██████████▊                     | 4.2MB 1.3MB/s eta 0:00:07    35% |███████████▎                    | 4.4MB 1.2MB/s eta 0:00:07    41% |█████████████▍                  | 5.2MB 1.3MB/s eta 0:00:06    42% |█████████████▋                  | 5.3MB 1.3MB/s eta 0:00:06    47% |███████████████                 | 5.9MB 1.8MB/s eta 0:00:04    52% |████████████████▉               | 6.5MB 426kB/s eta 0:00:14    56% |██████████████████              | 7.0MB 1.3MB/s eta 0:00:05    65% |█████████████████████           | 8.1MB 1.6MB/s eta 0:00:03    73% |███████████████████████▌        | 9.1MB 1.4MB/s eta 0:00:03    81% |██████████████████████████      | 10.1MB 1.6MB/s eta 0:00:02    83% |██████████████████████████▊     | 10.4MB 1.1MB/s eta 0:00:02    93% |█████████████████████████████▉  | 11.6MB 1.5MB/s eta 0:00:01\n",
      "\u001b[?25hRequirement already satisfied: pyparsing!=2.0.4,!=2.1.2,!=2.1.6,>=2.0.1 in /home/frank/environments/myenv/lib/python3.6/site-packages (from matplotlib)\n",
      "Collecting kiwisolver>=1.0.1 (from matplotlib)\n",
      "  Downloading https://files.pythonhosted.org/packages/ae/23/147de658aabbf968324551ea22c0c13a00284c4ef49a77002e91f79657b7/kiwisolver-1.2.0-cp36-cp36m-manylinux1_x86_64.whl (88kB)\n",
      "\u001b[K    100% |████████████████████████████████| 92kB 1.2MB/s ta 0:00:01\n",
      "\u001b[?25hRequirement already satisfied: numpy>=1.11 in /home/frank/environments/myenv/lib/python3.6/site-packages (from matplotlib)\n",
      "Requirement already satisfied: python-dateutil>=2.1 in /home/frank/environments/myenv/lib/python3.6/site-packages (from matplotlib)\n",
      "Collecting cycler>=0.10 (from matplotlib)\n",
      "  Downloading https://files.pythonhosted.org/packages/f7/d2/e07d3ebb2bd7af696440ce7e754c59dd546ffe1bbe732c8ab68b9c834e61/cycler-0.10.0-py2.py3-none-any.whl\n",
      "Requirement already satisfied: six>=1.5 in /home/frank/environments/myenv/lib/python3.6/site-packages (from python-dateutil>=2.1->matplotlib)\n",
      "Installing collected packages: kiwisolver, cycler, matplotlib\n",
      "Successfully installed cycler-0.10.0 kiwisolver-1.2.0 matplotlib-3.2.1\n"
     ]
    },
    {
     "ename": "ImportError",
     "evalue": "cannot import name 'prepare_js'",
     "output_type": "error",
     "traceback": [
      "\u001b[0;31m---------------------------------------------------------------------------\u001b[0m",
      "\u001b[0;31mImportError\u001b[0m                               Traceback (most recent call last)",
      "\u001b[0;32m<ipython-input-2-845fca28f4bc>\u001b[0m in \u001b[0;36m<module>\u001b[0;34m\u001b[0m\n\u001b[1;32m      7\u001b[0m \u001b[0;32mfrom\u001b[0m \u001b[0mmobilechelonian\u001b[0m \u001b[0;32mimport\u001b[0m \u001b[0mTurtle\u001b[0m\u001b[0;34m\u001b[0m\u001b[0;34m\u001b[0m\u001b[0m\n\u001b[1;32m      8\u001b[0m \u001b[0;34m\u001b[0m\u001b[0m\n\u001b[0;32m----> 9\u001b[0;31m \u001b[0;32mfrom\u001b[0m \u001b[0mmobilechelonian\u001b[0m \u001b[0;32mimport\u001b[0m \u001b[0mprepare_js\u001b[0m\u001b[0;34m\u001b[0m\u001b[0;34m\u001b[0m\u001b[0m\n\u001b[0m\u001b[1;32m     10\u001b[0m \u001b[0mprepare_js\u001b[0m\u001b[0;34m(\u001b[0m\u001b[0;34m)\u001b[0m\u001b[0;34m\u001b[0m\u001b[0;34m\u001b[0m\u001b[0m\n",
      "\u001b[0;31mImportError\u001b[0m: cannot import name 'prepare_js'"
     ]
    }
   ],
   "source": [
    "!pip install mobilechelonian\n",
    "!pip install matplotlib\n",
    "\n",
    "import numpy as np\n",
    "import matplotlib.pyplot as plt\n",
    "\n",
    "from mobilechelonian import Turtle\n",
    "\n",
    "from mobilechelonian import prepare_js\n",
    "prepare_js()"
   ]
  },
  {
   "cell_type": "code",
   "execution_count": 4,
   "metadata": {},
   "outputs": [
    {
     "data": {
      "application/vnd.jupyter.widget-view+json": {
       "model_id": "ae869ac69e1940419201caa68b712b75",
       "version_major": 2,
       "version_minor": 0
      },
      "text/plain": [
       "Turtle()"
      ]
     },
     "metadata": {},
     "output_type": "display_data"
    }
   ],
   "source": [
    "from mobilechelonian import Turtle\n",
    "t = Turtle()\n",
    "t.speed(5)\n",
    "t.pencolor(\"blue\")\n",
    "\n",
    "t.left(90)\n",
    "t.forward(60)\n",
    "t.left(90)\n",
    "t.forward(60)\n",
    "t.left(90)\n",
    "t.forward(60)\n",
    "t.left(90)\n",
    "t.forward(60)\n"
   ]
  }
 ],
 "metadata": {
  "kernelspec": {
   "display_name": "Python 3",
   "language": "python",
   "name": "python3"
  },
  "language_info": {
   "codemirror_mode": {
    "name": "ipython",
    "version": 3
   },
   "file_extension": ".py",
   "mimetype": "text/x-python",
   "name": "python",
   "nbconvert_exporter": "python",
   "pygments_lexer": "ipython3",
   "version": "3.6.9"
  }
 },
 "nbformat": 4,
 "nbformat_minor": 2
}
